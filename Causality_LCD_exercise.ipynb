{
  "nbformat": 4,
  "nbformat_minor": 0,
  "metadata": {
    "colab": {
      "provenance": [],
      "include_colab_link": true
    },
    "kernelspec": {
      "name": "ir",
      "display_name": "R"
    },
    "language_info": {
      "name": "R"
    }
  },
  "cells": [
    {
      "cell_type": "markdown",
      "metadata": {
        "id": "view-in-github",
        "colab_type": "text"
      },
      "source": [
        "<a href=\"https://colab.research.google.com/github/lararst/ADNIanalysis/blob/main/Causality_LCD_exercise.ipynb\" target=\"_parent\"><img src=\"https://colab.research.google.com/assets/colab-badge.svg\" alt=\"Open In Colab\"/></a>"
      ]
    },
    {
      "cell_type": "markdown",
      "metadata": {
        "id": "VgnFUsKDAaM0"
      },
      "source": [
        "# Instructions\n",
        "- Make a copy of this notebook for your solutions\n",
        "- For submission, click \"Share\" and allow anyone with link to comment, so that I can easily give feedback. Then submit the sharing link to the ELO.\n",
        "- Only change code between `### BEGIN SOLUTION` and `### END SOLUTION`\n",
        "- Do not include any additional code cells in your submission.\n",
        "- Your solution should be on Google Colab.\n",
        "- When doing \"Restart and Run all\", all code should run without errors, so all tests must pass. I will do this when grading, so if any errors occur, I cannot grade your work.\n",
        "\n"
      ]
    },
    {
      "cell_type": "code",
      "metadata": {
        "id": "2nIIVo7mASq9",
        "colab": {
          "base_uri": "https://localhost:8080/"
        },
        "outputId": "9e2b5890-85a5-44c4-d960-688027d31083"
      },
      "source": [
        "# Install and load library, takes a couple of minutes.\n",
        "system('sudo apt-get install -y g++ gcc gfortran-8')\n",
        "install.packages(\"BiocManager\", lib=\"/usr/local/lib/R/site-library\", quiet=TRUE)\n",
        "BiocManager::install(\"pcalg\", lib=\"/usr/local/lib/R/site-library\", quiet=TRUE)\n",
        "install.packages(\"testthat\", lib=\"/usr/local/lib/R/site-library\", quiet=TRUE)\n",
        "library(pcalg)\n",
        "library(testthat)\n",
        "library(ggplot2)\n",
        "library(openssl)"
      ],
      "execution_count": null,
      "outputs": [
        {
          "output_type": "stream",
          "name": "stderr",
          "text": [
            "'getOption(\"repos\")' replaces Bioconductor standard repositories, see\n",
            "'?repositories' for details\n",
            "\n",
            "replacement repositories:\n",
            "    CRAN: https://cran.rstudio.com\n",
            "\n",
            "\n",
            "Bioconductor version 3.15 (BiocManager 1.30.17), R 4.2.0 (2022-04-22)\n",
            "\n",
            "Installing package(s) 'BiocVersion', 'pcalg'\n",
            "\n",
            "also installing the dependencies ‘zoo’, ‘BiocGenerics’, ‘DEoptimR’, ‘lmtest’, ‘abind’, ‘graph’, ‘RBGL’, ‘igraph’, ‘ggm’, ‘corpcor’, ‘robustbase’, ‘vcd’, ‘Rcpp’, ‘bdsmatrix’, ‘sfsmisc’, ‘fastICA’, ‘clue’, ‘RcppArmadillo’, ‘BH’\n",
            "\n",
            "\n",
            "Linking to: OpenSSL 1.1.1  11 Sep 2018\n",
            "\n"
          ]
        }
      ]
    },
    {
      "cell_type": "markdown",
      "metadata": {
        "id": "pz0kaAazArjy"
      },
      "source": [
        "The following is a helper function to sample Bernoulli variables."
      ]
    },
    {
      "cell_type": "code",
      "metadata": {
        "id": "8BO1M4XIAh87"
      },
      "source": [
        "bernSample <- function (p, n=1) sample(x = c(TRUE, FALSE), size = n, replace = TRUE, prob=c(p, 1-p))"
      ],
      "execution_count": null,
      "outputs": []
    },
    {
      "cell_type": "code",
      "metadata": {
        "id": "tp8V7HtsAysh",
        "colab": {
          "base_uri": "https://localhost:8080/",
          "height": 51
        },
        "outputId": "e2ece449-e0c0-41d1-8223-5232f36aebf5"
      },
      "source": [
        "bernSample(0.9)\n",
        "bernSample(0.5, n=10)"
      ],
      "execution_count": null,
      "outputs": [
        {
          "output_type": "display_data",
          "data": {
            "text/html": [
              "TRUE"
            ],
            "text/markdown": "TRUE",
            "text/latex": "TRUE",
            "text/plain": [
              "[1] TRUE"
            ]
          },
          "metadata": {}
        },
        {
          "output_type": "display_data",
          "data": {
            "text/html": [
              "<style>\n",
              ".list-inline {list-style: none; margin:0; padding: 0}\n",
              ".list-inline>li {display: inline-block}\n",
              ".list-inline>li:not(:last-child)::after {content: \"\\00b7\"; padding: 0 .5ex}\n",
              "</style>\n",
              "<ol class=list-inline><li>TRUE</li><li>FALSE</li><li>FALSE</li><li>TRUE</li><li>TRUE</li><li>FALSE</li><li>FALSE</li><li>TRUE</li><li>FALSE</li><li>TRUE</li></ol>\n"
            ],
            "text/markdown": "1. TRUE\n2. FALSE\n3. FALSE\n4. TRUE\n5. TRUE\n6. FALSE\n7. FALSE\n8. TRUE\n9. FALSE\n10. TRUE\n\n\n",
            "text/latex": "\\begin{enumerate*}\n\\item TRUE\n\\item FALSE\n\\item FALSE\n\\item TRUE\n\\item TRUE\n\\item FALSE\n\\item FALSE\n\\item TRUE\n\\item FALSE\n\\item TRUE\n\\end{enumerate*}\n",
            "text/plain": [
              " [1]  TRUE FALSE FALSE  TRUE  TRUE FALSE FALSE  TRUE FALSE  TRUE"
            ]
          },
          "metadata": {}
        }
      ]
    },
    {
      "cell_type": "markdown",
      "metadata": {
        "id": "2OLYJ76KBSGq"
      },
      "source": [
        "# Introduction to R Data Frames\n",
        "A convenient way of organising a data set in R is via data frames.\n",
        "\n",
        "Some basic facts about R data frames:\n",
        "* Given vectors `colA` and `colB`, you can create a data frame as `data.frame(a=colA, b=colB)` containing columns `a` and `b`.\n",
        "* If `df` is a data frame having column `col`, then `df$col` gives the columns as a vector.\n",
        "* If you have a string variable `colName <- \"col\"`, you can access the column named `col` in data frame `df` via `df[[colName]]`.\n",
        "* You can add new columns using `df$col <- ...`\n",
        "\n",
        "In the following example, we create a data set of samples from the Bayesian Network:\n",
        "```\n",
        "P(A=TRUE)=0.5\n",
        "P(B=TRUE)=0.1\n",
        "P(C=TRUE|A=TRUE,  B=TRUE)  = 0.9\n",
        "P(C=TRUE|A=TRUE,  B=FALSE) = 0.5\n",
        "P(C=TRUE|A=FALSE, B=TRUE)  = 0.4\n",
        "P(C=TRUE|A=FALSE, B=FALSE) = 0.1\n",
        "```\n",
        "The following code constructs a function that samples a data set via ancestral sampling."
      ]
    },
    {
      "cell_type": "code",
      "metadata": {
        "id": "AqiN4wZ8Drob",
        "colab": {
          "base_uri": "https://localhost:8080/",
          "height": 407
        },
        "outputId": "07f5483f-d58a-41ce-cf3a-ecee6b928bd8"
      },
      "source": [
        "sampleDemoDataset <- function(numSamples) {\n",
        "  # First create A and B variables\n",
        "  dfDemo <- data.frame(\n",
        "    a = bernSample(.5, numSamples),\n",
        "    b = bernSample(.1, numSamples)\n",
        "  )\n",
        "\n",
        "  # Now create the C column\n",
        "  # We apply the function, which returns a boolean, to each row\n",
        "  # This is aggregated into a new column.\n",
        "  dfDemo$c <- apply(dfDemo, 1, function(r) {\n",
        "    if (r['a'] && r['b']) {\n",
        "      p <- 0.9\n",
        "    } else if (r['a'] && !r['b']) {\n",
        "      p <- 0.5\n",
        "    } else if (!r['a'] && r['b']) {\n",
        "      p <- 0.4\n",
        "    } else if (!r['a'] && !r['b']) {\n",
        "      p <- 0.1\n",
        "    }\n",
        "    bernSample(p)\n",
        "  })\n",
        "  dfDemo\n",
        "}\n",
        "dfDemo <- sampleDemoDataset(10)\n",
        "dfDemo"
      ],
      "execution_count": null,
      "outputs": [
        {
          "output_type": "display_data",
          "data": {
            "text/html": [
              "<table class=\"dataframe\">\n",
              "<caption>A data.frame: 10 × 3</caption>\n",
              "<thead>\n",
              "\t<tr><th scope=col>a</th><th scope=col>b</th><th scope=col>c</th></tr>\n",
              "\t<tr><th scope=col>&lt;lgl&gt;</th><th scope=col>&lt;lgl&gt;</th><th scope=col>&lt;lgl&gt;</th></tr>\n",
              "</thead>\n",
              "<tbody>\n",
              "\t<tr><td> TRUE</td><td>FALSE</td><td> TRUE</td></tr>\n",
              "\t<tr><td> TRUE</td><td>FALSE</td><td>FALSE</td></tr>\n",
              "\t<tr><td> TRUE</td><td>FALSE</td><td>FALSE</td></tr>\n",
              "\t<tr><td>FALSE</td><td>FALSE</td><td>FALSE</td></tr>\n",
              "\t<tr><td>FALSE</td><td>FALSE</td><td>FALSE</td></tr>\n",
              "\t<tr><td>FALSE</td><td>FALSE</td><td> TRUE</td></tr>\n",
              "\t<tr><td>FALSE</td><td>FALSE</td><td>FALSE</td></tr>\n",
              "\t<tr><td> TRUE</td><td>FALSE</td><td> TRUE</td></tr>\n",
              "\t<tr><td> TRUE</td><td> TRUE</td><td> TRUE</td></tr>\n",
              "\t<tr><td>FALSE</td><td>FALSE</td><td>FALSE</td></tr>\n",
              "</tbody>\n",
              "</table>\n"
            ],
            "text/markdown": "\nA data.frame: 10 × 3\n\n| a &lt;lgl&gt; | b &lt;lgl&gt; | c &lt;lgl&gt; |\n|---|---|---|\n|  TRUE | FALSE |  TRUE |\n|  TRUE | FALSE | FALSE |\n|  TRUE | FALSE | FALSE |\n| FALSE | FALSE | FALSE |\n| FALSE | FALSE | FALSE |\n| FALSE | FALSE |  TRUE |\n| FALSE | FALSE | FALSE |\n|  TRUE | FALSE |  TRUE |\n|  TRUE |  TRUE |  TRUE |\n| FALSE | FALSE | FALSE |\n\n",
            "text/latex": "A data.frame: 10 × 3\n\\begin{tabular}{lll}\n a & b & c\\\\\n <lgl> & <lgl> & <lgl>\\\\\n\\hline\n\t  TRUE & FALSE &  TRUE\\\\\n\t  TRUE & FALSE & FALSE\\\\\n\t  TRUE & FALSE & FALSE\\\\\n\t FALSE & FALSE & FALSE\\\\\n\t FALSE & FALSE & FALSE\\\\\n\t FALSE & FALSE &  TRUE\\\\\n\t FALSE & FALSE & FALSE\\\\\n\t  TRUE & FALSE &  TRUE\\\\\n\t  TRUE &  TRUE &  TRUE\\\\\n\t FALSE & FALSE & FALSE\\\\\n\\end{tabular}\n",
            "text/plain": [
              "   a     b     c    \n",
              "1   TRUE FALSE  TRUE\n",
              "2   TRUE FALSE FALSE\n",
              "3   TRUE FALSE FALSE\n",
              "4  FALSE FALSE FALSE\n",
              "5  FALSE FALSE FALSE\n",
              "6  FALSE FALSE  TRUE\n",
              "7  FALSE FALSE FALSE\n",
              "8   TRUE FALSE  TRUE\n",
              "9   TRUE  TRUE  TRUE\n",
              "10 FALSE FALSE FALSE"
            ]
          },
          "metadata": {}
        }
      ]
    },
    {
      "cell_type": "markdown",
      "metadata": {
        "id": "0Gfb8AlMExPs"
      },
      "source": [
        "# Exercise 1: Sample Asia Bayesian Network\n",
        "(3 points)\n",
        "\n",
        "You can find the network here: [Asia BN](https://www.bayesserver.com/examples/networks/asia).\n",
        "\n",
        "You should create a data frame with the following boolean columns:\n",
        "* visitToAsia\n",
        "* smoker\n",
        "* hasTuberculosis\n",
        "* hasLungCancer\n",
        "* hasBronchitis\n",
        "* tuberculosisOrCancer\n",
        "* xRayAbnormal (note: this differs from the web page in order to make it clear what TRUE means)\n",
        "* dyspnea\n",
        "\n",
        "Below, you should create the body of the function `sampleDataset`, which samples the dataset according to the BayesNet for a given number of samples. Note that in R, the last expression in a function body is automatically returned.\n"
      ]
    },
    {
      "cell_type": "code",
      "metadata": {
        "id": "Zn5JxFR2Fba3"
      },
      "source": [
        "sampleDataset <- function(numSamples) {\n",
        "### BEGIN SOLUTION\n",
        "### END SOLUTION\n",
        "}\n",
        "\n",
        "df <- sampleDataset(100000)\n",
        "df"
      ],
      "execution_count": null,
      "outputs": []
    },
    {
      "cell_type": "code",
      "metadata": {
        "id": "3sEw-QBJHDDS"
      },
      "source": [
        "# Test all columns are present\n",
        "expect_equal(sort(names(df)), c(\n",
        "  'dyspnea', 'hasBronchitis', 'hasLungCancer', 'hasTuberculosis',\n",
        "  'smoker', 'tuberculosisOrCancer', 'visitToAsia', 'xRayAbnormal'))\n",
        "# Test number of rows\n",
        "expect_equal(nrow(df), 100000)"
      ],
      "execution_count": null,
      "outputs": []
    },
    {
      "cell_type": "markdown",
      "metadata": {
        "id": "qX-wGa45HqqX"
      },
      "source": [
        "# Exercise 2: G-Test\n",
        "(3 points)\n",
        "\n",
        "The next exercise is to implement the G test. Please consult the lecture notes. First, we compute the G statistic and then we use the fact that given the null hypothesis of (conditional) independence, the G statistic is drawn from the chi-squared distribution whose degrees of freedom are given by the number of values the variables take (2 for booleans) according to the formulae in the references.\n",
        "\n",
        "You should construct four functions:\n",
        "- `gStatistic(x, y)` which takes boolean vectors as arguments and returns the G statistic about the independence of `x` and `y` conditioning on the empty set.\n",
        "- `gTest(x, y)` which gives the probability that at least `gStatistic(x, y)` is observed, assuming `x` and `y` are sampled from an independent distribution.\n",
        "- `gStatisticCond(x, y, z)` which takes boolean vectors as arguments and returns the G statistic about the independence of `x` and `y` conditioning on variable `z`.\n",
        "- `gTestCond(x, y, z)` which gives the probability that at least `gStatisticCond(x, y, z)` is observed, assuming `x` and `y` are sampled from an independent distribution given `z`.\n",
        "\n",
        "Your implementation of the G statistics should use simple R and not rely on any external libraries, including `PCALG`, which we imported above. Your implementation of the G tests should use your G statistic functions and the function [pchisq or qchisq](https://www.rdocumentation.org/packages/stats/versions/3.6.2/topics/Chisquare).\n",
        "\n",
        "\n",
        "Some hints:\n",
        "-  You can make a for loop using `for (v in c(TRUE, FALSE)) { ... }`\n",
        "- You can count the number of `TRUE` elements via `sum(x==TRUE)`\n",
        "- You can count the number of times a row in `x` is `TRUE` and the same row in `y` is `FALSE` via `sum(x == TRUE & y == FALSE)`.\n",
        "- For the function `pchisq` or `qchisq`, make sure you understand the meaning of argument `lower.tail`.\n",
        "- Make sure to handle the case `n log (n)=0` for `n=0`.\n",
        "- Taking the product of large numbers may overflow. Use `log(a * b) = log(a) + log(b)` to avoid this."
      ]
    },
    {
      "cell_type": "code",
      "metadata": {
        "id": "vckEI0BbNKc6"
      },
      "source": [
        "gStatistic <- function(x, y) {\n",
        "### BEGIN SOLUTION\n",
        "### END SOLUTION\n",
        "}\n",
        "\n",
        "gTest <- function(x, y) {\n",
        "### BEGIN SOLUTION\n",
        "### END SOLUTION\n",
        "}\n",
        "\n",
        "gStatisticCond <- function(x, y, z) {\n",
        "### BEGIN SOLUTION\n",
        "### END SOLUTION\n",
        "}\n",
        "gTestCond <- function(x, y, z) {\n",
        "### BEGIN SOLUTION\n",
        "### END SOLUTION\n",
        "}"
      ],
      "execution_count": null,
      "outputs": []
    },
    {
      "cell_type": "markdown",
      "metadata": {
        "id": "gAUTpuMjNlxG"
      },
      "source": [
        "We test our functions on the samples:"
      ]
    },
    {
      "cell_type": "code",
      "metadata": {
        "id": "Msh6uRRPOwXY"
      },
      "source": [
        "# visitToAsia and smoker are d-separated, so we expect independence\n",
        "# Thus we should see a high p-value (corresponding to low evidence against the null hypothesis).\n",
        "gTest(df$visitToAsia, df$smoker)\n",
        "\n",
        "# hasLungCancer and hasBronchitis are not d-separated, so we expect dependence\n",
        "# Thus we should see a low p-value (corresponding to high evidence against the null hypothesis).\n",
        "gTest(df$hasLungCancer, df$hasBronchitis)\n",
        "\n",
        "# hasLungCancer and hasBronchitis are d-separated given smoker,\n",
        "# so we expect independence given smoker.\n",
        "# Thus we should see a high p-value (corresponding to low evidence against the null hypothesis).\n",
        "gTestCond(df$hasLungCancer, df$hasBronchitis, df$smoker)"
      ],
      "execution_count": null,
      "outputs": []
    },
    {
      "cell_type": "code",
      "metadata": {
        "id": "ZrFhj_MaO4-L"
      },
      "source": [
        "# Validate empty handling\n",
        "expect_equal(gTest(c(1), c(1)), 1)\n",
        "expect_equal(gTestCond(c(1), c(1), c(1)), 1)\n",
        "\n",
        "# Comparing the solution to a reference implementation\n",
        "xTest = bernSample(0.3, n=100)\n",
        "yTest = bernSample(0.3, n=100)\n",
        "zTest = bernSample(0.3, n=100)\n",
        "expect_equal(gTest(xTest, yTest), gSquareBin(x=1,y=2, S=c(), dm=cbind(xTest, yTest, zTest), verbose=FALSE))\n",
        "expect_equal(gTestCond(xTest, yTest, zTest), gSquareBin(x=1,y=2, S=3, dm=cbind(xTest, yTest, zTest), verbose=FALSE))"
      ],
      "execution_count": null,
      "outputs": []
    },
    {
      "cell_type": "markdown",
      "metadata": {
        "id": "gc3v5vj1RoNE"
      },
      "source": [
        "# Exercise 3: Local Causal Discovery\n",
        "(1 point)\n",
        "\n",
        "With the (conditional) independence tests, we can see if a triple of variables `(x1, x2, x3)` satisfies the assumptions of proposition 9.7.1 of the lecture notes, if we assume that `x2` is not a cause of `x1`. A key parameter is the p-value threshold: what is the highest probability of the data under the null hypothesis of (conditional) independence such that we reject the null hypothesis. An often used value is p=0.05, meaning that if the data is sampled from the null hypothesis, we expect to falsely reject the null hypothesis 5% of the time."
      ]
    },
    {
      "cell_type": "code",
      "metadata": {
        "id": "fOtLpea-WJ2b"
      },
      "source": [
        "# Assuming x2 is not a cause of x1\n",
        "lcdTest <- function(x1, x2, x3, pThreshold) {\n",
        "### BEGIN SOLUTION\n",
        "### END SOLUTION\n",
        "}"
      ],
      "execution_count": null,
      "outputs": []
    },
    {
      "cell_type": "markdown",
      "metadata": {
        "id": "AqSGPCHkW296"
      },
      "source": [
        "# Exercise 4: Evaluating the LCD test\n",
        "We will now evaluate whether the `lcdTest` function we've built agrees with what we expect from d-separation in the Asia Bayesian Network. We study the effect of two variables: the number of samples from the Bayesian Network and the `pThreshold` value used for the LCD test.\n",
        "\n",
        "## 4.1 Dataset\n",
        "(2 points)\n",
        "\n",
        "Of all triples of variables for which the LCD assumption may hold, we manually construct a small dataset to evaluate our LCD testing. In the Comma Separated Value string below, replace `?` with either `TRUE` or `FALSE`, dependent on whether the LCD assumptions should hold based on d-separation in the Asia graph.\n",
        "\n",
        "We check the correctness of the labels you provided against a hash of the correct answer."
      ]
    },
    {
      "cell_type": "code",
      "metadata": {
        "id": "HBkgbU3vd5Yi"
      },
      "source": [
        "### BEGIN SOLUTION\n",
        "data <- \"\n",
        "x1, x2, x3, label\n",
        "visitToAsia, hasTuberculosis, tuberculosisOrCancer, ?\n",
        "visitToAsia, smoker, tuberculosisOrCancer, ?\n",
        "visitToAsia, hasLungCancer, tuberculosisOrCancer, ?\n",
        "visitToAsia, dyspnea, tuberculosisOrCancer, ?\n",
        "hasTuberculosis, tuberculosisOrCancer, dyspnea, ?\n",
        "visitToAsia, hasTuberculosis, xRayAbnormal, ?\n",
        "visitToAsia, tuberculosisOrCancer, xRayAbnormal, ?\n",
        "visitToAsia, hasTuberculosis, dyspnea, ?\n",
        "smoker, hasLungCancer, tuberculosisOrCancer, ?\n",
        "smoker, tuberculosisOrCancer, xRayAbnormal, ?\n",
        "smoker, hasLungCancer, dyspnea, ?\n",
        "smoker, tuberculosisOrCancer, dyspnea, ?\n",
        "xRayAbnormal, hasBronchitis, dyspnea, ?\n",
        "\"\n",
        "### END SOLUTION\n",
        "\n",
        "# Construct data frame from CSV\n",
        "lcdEvalDataset <- read.table(\n",
        "  text = data, sep =\",\", header = TRUE, strip.white = TRUE,\n",
        "  colClasses=c(\"character\", \"character\", \"character\", \"logical\"))\n",
        "lcdEvalDataset"
      ],
      "execution_count": null,
      "outputs": []
    },
    {
      "cell_type": "code",
      "metadata": {
        "id": "2r1XFpVbIJpy"
      },
      "source": [
        "# Test if the labels were correct.\n",
        "# If this test fails, some of the labels are incorrect.\n",
        "s <- toString(lapply(lcdEvalDataset$label, toString))\n",
        "expect_equal(toString(md5(s)), \"6bed508f2379c181b119d0177351e50e\")"
      ],
      "execution_count": null,
      "outputs": []
    },
    {
      "cell_type": "markdown",
      "metadata": {
        "id": "7LuhZK9pH4ue"
      },
      "source": [
        "## 4.2 Run evaluation\n",
        "(2 points)\n",
        "\n",
        "Now we test the esitmation with the data set by computing the precision and recall of our LCD prediction compared to the ground truth labels set we just constructed.\n",
        "\n",
        "Write the code to fill the `results` data frame. It should contain 25 rows, and the columns:\n",
        "- numSamples: values in 1E2, 1E3, 1E4, 1E5, 1E6\n",
        "- pThreshold: values in 0.001, 0.01, 0.05, 0.1, 0.2\n",
        "- precision: the precision of the LCD estimation for given numSamples and pThreshold\n",
        "- recall: the recall of the LCD estimation for given numSamples and pThreshold\n",
        "\n",
        "Hint:\n",
        "- You can add a row to a data frame by `results[nrow(results) + 1,] = list(numSamples, pThreshold, precision, recall)`\n",
        "- At least one of the recalls and at least one of the precisions should be 1.\n",
        "- Wikipedia has a definition of [precision and recall](https://en.wikipedia.org/wiki/Precision_and_recall), where relevant means that the LCD condition holds."
      ]
    },
    {
      "cell_type": "code",
      "metadata": {
        "id": "cZg1c7Z44L5U"
      },
      "source": [
        "results <- data.frame(numSamples=double(), pThreshold=double(), precision=double(), recall=double())\n",
        "\n",
        "### BEGIN SOLUTION\n",
        "### END SOLUTION\n",
        "results"
      ],
      "execution_count": null,
      "outputs": []
    },
    {
      "cell_type": "code",
      "metadata": {
        "id": "Iq0sohBJQIzO"
      },
      "source": [
        "# Should have 25 rows\n",
        "expect_equal(nrow(results), 5 * 5)\n",
        "# Columns should match\n",
        "expect_equal(sort(names(results)), sort(c(\"numSamples\", \"pThreshold\", \"precision\", \"recall\")))\n",
        "# numSamples should have right values\n",
        "expect_equal(sort(unique(results$numSamples)), sort(c(1E2, 1E3, 1E4, 1E5, 1E6)))\n",
        "# pThreshold should have right values\n",
        "expect_equal(sort(unique(results$pThreshold)), sort(c(0.001, 0.01, 0.05, 0.1, 0.2)))\n",
        "\n",
        "# At least one setting should have perfect precision and recall\n",
        "expect_true(any(results$precision == 1))\n",
        "expect_true(any(results$recall == 1))\n"
      ],
      "execution_count": null,
      "outputs": []
    },
    {
      "cell_type": "code",
      "metadata": {
        "id": "daKW1tbDG5jJ"
      },
      "source": [
        "# Plot results\n",
        "(ggplot(data = results, aes(x = pThreshold, y = precision, group=numSamples, color=factor(numSamples)))\n",
        "  + geom_line(na.rm = TRUE) + geom_point(na.rm = TRUE)\n",
        "  + labs(color = \"#samples\", title = \"Precision\")\n",
        "  + scale_x_log10())\n",
        "  (ggplot(data = results, aes(x = pThreshold, y = recall, group=numSamples, color=factor(numSamples)))\n",
        "  + geom_line(na.rm = TRUE) + geom_point(na.rm = TRUE)\n",
        "  + labs(color = \"#samples\", title = \"Recall\")\n",
        "  + scale_x_log10())"
      ],
      "execution_count": null,
      "outputs": []
    },
    {
      "cell_type": "markdown",
      "metadata": {
        "id": "RzfXv_YCZGYF"
      },
      "source": [
        "# Exercise 5: Infer causal effect\n",
        "(1 point)\n",
        "\n",
        "With the LCD test, we may find that for the triple:\n",
        "`X1=visitToAsia`, `X2=hasTuberculosis`, `X3=xRayAbnormal`, the LCD test holds. If so, we can use `P(xRayAbnormal|do(hasTuberculosis))=P(xRayAbnormal|hasTuberculosis)`\n",
        "to estimate causal effect. First, verify that this LCD condition holds. Then, to estimate the conditional probability, we can use R tables, which we then normalize. As an example, `table(df[c('visitToAsia', 'smoker')])` creates an R table from the dataframe `df` that shows the counts for all four possible values of the two boolean variables. Create such a table and normalize appropriately to infer the conditional probabilities.\n",
        "\n",
        "Tasks:\n",
        "- Test LCD test for the triple `X1=visitToAsia`, `X2=hasTuberculosis`, `X3=xRayAbnormal`\n",
        "- Construct the conditional probability `P(xRayAbnormal|hasTuberculosis)`\n",
        "\n",
        "Hints:\n",
        "- Dividing a  $N \\times M$ shaped table by an $N$ vector divides the elements in the $i$th row by the $i$th value of the vector.\n",
        "- Consider using the function `rowSums(t)` on the table."
      ]
    },
    {
      "cell_type": "code",
      "metadata": {
        "id": "kRqCwYlFcc3i"
      },
      "source": [
        "df <- sampleDataset(1000000)"
      ],
      "execution_count": null,
      "outputs": []
    },
    {
      "cell_type": "code",
      "metadata": {
        "id": "9D0a9k0pG_rQ"
      },
      "source": [
        "### BEGIN SOLUTION\n",
        "### END SOLUTION"
      ],
      "execution_count": null,
      "outputs": []
    },
    {
      "cell_type": "markdown",
      "metadata": {
        "id": "OW9ePszUOThR"
      },
      "source": [
        "# Exercise 6: Infer ancestor and confounder matrices\n",
        "\n",
        "## 6.1: Construct matrices\n",
        "\n",
        "(2 points)\n",
        "\n",
        "If we use as prior knowledge that `visitToAsia` and `smoker` have no parents, we can use LCD to infer the *ancestor matrix*.\n",
        "\n",
        "If a SCM has $N$ exogenous and endogenous variables, the ancestor matrix is a $N \\times N$ matrix with $A_{vw}=1$ if we infer that $v$ is a ancestor of $w$.  $A_{vw}=-1$ if we infer this is not the case or $A_{vw}=0$ if the causal discovery method is inconclusive about this ancestral relationship.\n",
        "\n",
        "Similarly, we can make a confounded matrix $C_{vw}$. If $C_{vw}=1$, we know $v$ and $w$ have a confounder, if $C_{vw}=-1$ we know they don't or if $C_{vw}=0$ we can't tell.\n",
        "\n",
        "Hints & instructions:\n",
        "- For an R matrix `m`, use `m[r, c] = v` to set the value at row `r` and column `c` to value  `v`.\n",
        "- Do use the prior knowledge that `visitToAsia` and `smoker` have no parents to the matrix.\n",
        "- You do not have to reason about transitivity. Just incorporate the immediate LCD results and the prior knowledge.\n",
        "- The LCD algorithm is not very informative for constructing the confounded matrix $C$\n",
        "- You can use `pThreshold=0.001`\n",
        "- Use the 1M samples from the previous cell\n",
        "- Let $A_{vv}=1, C_{vv}=-1$"
      ]
    },
    {
      "cell_type": "code",
      "metadata": {
        "id": "H5spwVhUXAKo"
      },
      "source": [
        "ancestorMatrix = matrix(data=c(0), nrow=8, ncol=8, dimnames=list(names(df), names(df)))\n",
        "confoundedMatrix = matrix(data=c(0), nrow=8, ncol=8, dimnames=list(names(df), names(df)))\n",
        "\n",
        "# The variable names other than smoker and visitToAsia\n",
        "varNames = c(\n",
        "  'dyspnea', 'hasBronchitis', 'hasLungCancer', 'hasTuberculosis',\n",
        "  'tuberculosisOrCancer', 'xRayAbnormal')\n",
        "\n",
        "### BEGIN SOLUTION\n",
        "### END SOLUTION\n",
        "ancestorMatrix\n",
        "confoundedMatrix"
      ],
      "execution_count": null,
      "outputs": []
    },
    {
      "cell_type": "markdown",
      "metadata": {
        "id": "nV98NWCUDvaQ"
      },
      "source": [
        "## 6.2: Compare to FCI implementation\n",
        "(1 point)\n",
        "\n",
        "The following code computes and displays the ancestor and counfounded matrices using the [FCI](https://www.rdocumentation.org/packages/pcalg/versions/2.7-1/topics/fci) method. In the cell below, briefly comment qualitatively on the results obtained via LCD and FCI."
      ]
    },
    {
      "cell_type": "code",
      "metadata": {
        "id": "Z1Lq4PzAOZoV"
      },
      "source": [
        "dfFCI <- sampleDataset(100000) # Smaller dataset as FCI is slower\n",
        "res <- fci(list(dm=dfFCI, adaptDF=FALSE), indepTest=binCItest, alpha = 0.01, doPdsep = TRUE, labels=names(df), jci=\"1\", contextVars=c(1, 2) ,selectionBias=FALSE)\n",
        "fciAncestorMatrix <- pag2anc(res@amat)\n",
        "fciCounfounderMatrix <- pag2conf(res@amat)\n",
        "fciAncestorMatrix\n",
        "fciCounfounderMatrix"
      ],
      "execution_count": null,
      "outputs": []
    },
    {
      "cell_type": "markdown",
      "metadata": {
        "id": "hZV4vdSJFmj2"
      },
      "source": [
        "BEGIN SOLUTION\n",
        "\n",
        "END SOLUTION"
      ]
    }
  ]
}